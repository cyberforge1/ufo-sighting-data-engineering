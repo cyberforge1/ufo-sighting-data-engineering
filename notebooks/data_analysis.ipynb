{
 "cells": [
  {
   "cell_type": "code",
   "execution_count": null,
   "metadata": {},
   "outputs": [],
   "source": [
    "# UFO Sightings Data Analysis\n",
    "\n",
    "This notebook analyses UFO sightings data using SQL and visualizations in Python."
   ]
  }
 ],
 "metadata": {
  "language_info": {
   "name": "python"
  }
 },
 "nbformat": 4,
 "nbformat_minor": 2
}
